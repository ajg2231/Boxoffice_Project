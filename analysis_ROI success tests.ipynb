{
 "cells": [
  {
   "cell_type": "code",
   "execution_count": 17,
   "metadata": {},
   "outputs": [],
   "source": [
    "# Dependencies\n",
    "# Dependencies\n",
    "import pandas as pd\n",
    "import numpy as np\n",
    "import requests\n",
    "import json\n",
    "import matplotlib.pyplot as plt"
   ]
  },
  {
   "cell_type": "code",
   "execution_count": 18,
   "metadata": {},
   "outputs": [
    {
     "data": {
      "text/html": [
       "<div>\n",
       "<style scoped>\n",
       "    .dataframe tbody tr th:only-of-type {\n",
       "        vertical-align: middle;\n",
       "    }\n",
       "\n",
       "    .dataframe tbody tr th {\n",
       "        vertical-align: top;\n",
       "    }\n",
       "\n",
       "    .dataframe thead th {\n",
       "        text-align: right;\n",
       "    }\n",
       "</style>\n",
       "<table border=\"1\" class=\"dataframe\">\n",
       "  <thead>\n",
       "    <tr style=\"text-align: right;\">\n",
       "      <th></th>\n",
       "      <th>movie_name</th>\n",
       "      <th>Country</th>\n",
       "      <th>Release Date</th>\n",
       "      <th>IMDB Rating</th>\n",
       "      <th>Metascore</th>\n",
       "      <th>TomatoMeter</th>\n",
       "      <th>production_budget</th>\n",
       "      <th>domestic_box_office</th>\n",
       "      <th>international_box_office</th>\n",
       "      <th>rating</th>\n",
       "      <th>genre</th>\n",
       "      <th>Total Box Office</th>\n",
       "      <th>ROI</th>\n",
       "    </tr>\n",
       "  </thead>\n",
       "  <tbody>\n",
       "    <tr>\n",
       "      <th>0</th>\n",
       "      <td>Madea's Family Reunion</td>\n",
       "      <td>USA</td>\n",
       "      <td>24 Feb 2006</td>\n",
       "      <td>5.2</td>\n",
       "      <td>45.0</td>\n",
       "      <td>26%</td>\n",
       "      <td>10000000</td>\n",
       "      <td>63257940</td>\n",
       "      <td>62581</td>\n",
       "      <td>PG-13</td>\n",
       "      <td>Comedy</td>\n",
       "      <td>63320521</td>\n",
       "      <td>633.21%</td>\n",
       "    </tr>\n",
       "    <tr>\n",
       "      <th>1</th>\n",
       "      <td>Krrish</td>\n",
       "      <td>India</td>\n",
       "      <td>23 Jun 2006</td>\n",
       "      <td>6.4</td>\n",
       "      <td>68.0</td>\n",
       "      <td>88%</td>\n",
       "      <td>10000000</td>\n",
       "      <td>1430721</td>\n",
       "      <td>31000000</td>\n",
       "      <td>Not Rated</td>\n",
       "      <td>Action</td>\n",
       "      <td>32430721</td>\n",
       "      <td>324.31%</td>\n",
       "    </tr>\n",
       "    <tr>\n",
       "      <th>2</th>\n",
       "      <td>End of the Spear</td>\n",
       "      <td>USA</td>\n",
       "      <td>20 Jan 2006</td>\n",
       "      <td>6.8</td>\n",
       "      <td>45.0</td>\n",
       "      <td>41%</td>\n",
       "      <td>10000000</td>\n",
       "      <td>11748661</td>\n",
       "      <td>175380</td>\n",
       "      <td>PG-13</td>\n",
       "      <td>Drama</td>\n",
       "      <td>11924041</td>\n",
       "      <td>119.24%</td>\n",
       "    </tr>\n",
       "    <tr>\n",
       "      <th>3</th>\n",
       "      <td>A Prairie Home Companion</td>\n",
       "      <td>USA</td>\n",
       "      <td>09 Jun 2006</td>\n",
       "      <td>6.7</td>\n",
       "      <td>75.0</td>\n",
       "      <td>81%</td>\n",
       "      <td>10000000</td>\n",
       "      <td>20342852</td>\n",
       "      <td>6373339</td>\n",
       "      <td>PG-13</td>\n",
       "      <td>Comedy</td>\n",
       "      <td>26716191</td>\n",
       "      <td>267.16%</td>\n",
       "    </tr>\n",
       "    <tr>\n",
       "      <th>4</th>\n",
       "      <td>Saw III</td>\n",
       "      <td>Canada, USA</td>\n",
       "      <td>27 Oct 2006</td>\n",
       "      <td>6.2</td>\n",
       "      <td>48.0</td>\n",
       "      <td>28%</td>\n",
       "      <td>10000000</td>\n",
       "      <td>80238724</td>\n",
       "      <td>83638091</td>\n",
       "      <td>R</td>\n",
       "      <td>Horror</td>\n",
       "      <td>163876815</td>\n",
       "      <td>1638.77%</td>\n",
       "    </tr>\n",
       "    <tr>\n",
       "      <th>...</th>\n",
       "      <td>...</td>\n",
       "      <td>...</td>\n",
       "      <td>...</td>\n",
       "      <td>...</td>\n",
       "      <td>...</td>\n",
       "      <td>...</td>\n",
       "      <td>...</td>\n",
       "      <td>...</td>\n",
       "      <td>...</td>\n",
       "      <td>...</td>\n",
       "      <td>...</td>\n",
       "      <td>...</td>\n",
       "      <td>...</td>\n",
       "    </tr>\n",
       "    <tr>\n",
       "      <th>1795</th>\n",
       "      <td>Widows</td>\n",
       "      <td>UK, USA</td>\n",
       "      <td>16 Nov 2018</td>\n",
       "      <td>8.0</td>\n",
       "      <td>49.0</td>\n",
       "      <td>79%</td>\n",
       "      <td>40000000</td>\n",
       "      <td>42402632</td>\n",
       "      <td>31463456</td>\n",
       "      <td>R</td>\n",
       "      <td>Thriller/Suspense</td>\n",
       "      <td>73866088</td>\n",
       "      <td>184.67%</td>\n",
       "    </tr>\n",
       "    <tr>\n",
       "      <th>1796</th>\n",
       "      <td>Instant Family</td>\n",
       "      <td>USA</td>\n",
       "      <td>16 Nov 2018</td>\n",
       "      <td>7.2</td>\n",
       "      <td>61.0</td>\n",
       "      <td>65%</td>\n",
       "      <td>48000000</td>\n",
       "      <td>67363237</td>\n",
       "      <td>47127851</td>\n",
       "      <td>PG-13</td>\n",
       "      <td>Comedy</td>\n",
       "      <td>114491088</td>\n",
       "      <td>238.52%</td>\n",
       "    </tr>\n",
       "    <tr>\n",
       "      <th>1797</th>\n",
       "      <td>The Mule</td>\n",
       "      <td>USA, Canada</td>\n",
       "      <td>14 Dec 2018</td>\n",
       "      <td>7.3</td>\n",
       "      <td>84.0</td>\n",
       "      <td>88%</td>\n",
       "      <td>50000000</td>\n",
       "      <td>103678298</td>\n",
       "      <td>47511103</td>\n",
       "      <td>R</td>\n",
       "      <td>Drama</td>\n",
       "      <td>151189401</td>\n",
       "      <td>302.38%</td>\n",
       "    </tr>\n",
       "    <tr>\n",
       "      <th>1798</th>\n",
       "      <td>Creed II</td>\n",
       "      <td>USA</td>\n",
       "      <td>21 Nov 2018</td>\n",
       "      <td>7.3</td>\n",
       "      <td>60.0</td>\n",
       "      <td>97%</td>\n",
       "      <td>50000000</td>\n",
       "      <td>115704387</td>\n",
       "      <td>96950000</td>\n",
       "      <td>PG-13</td>\n",
       "      <td>Drama</td>\n",
       "      <td>212654387</td>\n",
       "      <td>425.31%</td>\n",
       "    </tr>\n",
       "    <tr>\n",
       "      <th>1799</th>\n",
       "      <td>Bohemian Rhapsody</td>\n",
       "      <td>UK, USA</td>\n",
       "      <td>02 Nov 2018</td>\n",
       "      <td>6.3</td>\n",
       "      <td>51.0</td>\n",
       "      <td>36%</td>\n",
       "      <td>55000000</td>\n",
       "      <td>214776464</td>\n",
       "      <td>653781913</td>\n",
       "      <td>PG-13</td>\n",
       "      <td>Drama</td>\n",
       "      <td>868558377</td>\n",
       "      <td>1579.20%</td>\n",
       "    </tr>\n",
       "  </tbody>\n",
       "</table>\n",
       "<p>1800 rows × 13 columns</p>\n",
       "</div>"
      ],
      "text/plain": [
       "                    movie_name      Country Release Date  IMDB Rating  \\\n",
       "0       Madea's Family Reunion          USA  24 Feb 2006          5.2   \n",
       "1                       Krrish        India  23 Jun 2006          6.4   \n",
       "2             End of the Spear          USA  20 Jan 2006          6.8   \n",
       "3     A Prairie Home Companion          USA  09 Jun 2006          6.7   \n",
       "4                      Saw III  Canada, USA  27 Oct 2006          6.2   \n",
       "...                        ...          ...          ...          ...   \n",
       "1795                    Widows      UK, USA  16 Nov 2018          8.0   \n",
       "1796            Instant Family          USA  16 Nov 2018          7.2   \n",
       "1797                  The Mule  USA, Canada  14 Dec 2018          7.3   \n",
       "1798                  Creed II          USA  21 Nov 2018          7.3   \n",
       "1799         Bohemian Rhapsody      UK, USA  02 Nov 2018          6.3   \n",
       "\n",
       "      Metascore TomatoMeter  production_budget  domestic_box_office  \\\n",
       "0          45.0         26%           10000000             63257940   \n",
       "1          68.0         88%           10000000              1430721   \n",
       "2          45.0         41%           10000000             11748661   \n",
       "3          75.0         81%           10000000             20342852   \n",
       "4          48.0         28%           10000000             80238724   \n",
       "...         ...         ...                ...                  ...   \n",
       "1795       49.0         79%           40000000             42402632   \n",
       "1796       61.0         65%           48000000             67363237   \n",
       "1797       84.0         88%           50000000            103678298   \n",
       "1798       60.0         97%           50000000            115704387   \n",
       "1799       51.0         36%           55000000            214776464   \n",
       "\n",
       "      international_box_office     rating              genre  \\\n",
       "0                        62581      PG-13             Comedy   \n",
       "1                     31000000  Not Rated             Action   \n",
       "2                       175380      PG-13              Drama   \n",
       "3                      6373339      PG-13             Comedy   \n",
       "4                     83638091          R             Horror   \n",
       "...                        ...        ...                ...   \n",
       "1795                  31463456          R  Thriller/Suspense   \n",
       "1796                  47127851      PG-13             Comedy   \n",
       "1797                  47511103          R              Drama   \n",
       "1798                  96950000      PG-13              Drama   \n",
       "1799                 653781913      PG-13              Drama   \n",
       "\n",
       "      Total Box Office       ROI  \n",
       "0             63320521   633.21%  \n",
       "1             32430721   324.31%  \n",
       "2             11924041   119.24%  \n",
       "3             26716191   267.16%  \n",
       "4            163876815  1638.77%  \n",
       "...                ...       ...  \n",
       "1795          73866088   184.67%  \n",
       "1796         114491088   238.52%  \n",
       "1797         151189401   302.38%  \n",
       "1798         212654387   425.31%  \n",
       "1799         868558377  1579.20%  \n",
       "\n",
       "[1800 rows x 13 columns]"
      ]
     },
     "execution_count": 18,
     "metadata": {},
     "output_type": "execute_result"
    }
   ],
   "source": [
    "#import csv (includes MovieData.csv and API data)\n",
    "combined_df = pd.read_csv(\"Resources/api_merge_df.csv\")\n",
    "combined_df"
   ]
  },
  {
   "cell_type": "code",
   "execution_count": 19,
   "metadata": {},
   "outputs": [
    {
     "data": {
      "text/plain": [
       "movie_name                   object\n",
       "Country                      object\n",
       "Release Date                 object\n",
       "IMDB Rating                 float64\n",
       "Metascore                   float64\n",
       "TomatoMeter                  object\n",
       "production_budget             int64\n",
       "domestic_box_office           int64\n",
       "international_box_office      int64\n",
       "rating                       object\n",
       "genre                        object\n",
       "Total Box Office              int64\n",
       "ROI                          object\n",
       "dtype: object"
      ]
     },
     "execution_count": 19,
     "metadata": {},
     "output_type": "execute_result"
    }
   ],
   "source": [
    "combined_df.dtypes"
   ]
  },
  {
   "cell_type": "code",
   "execution_count": 20,
   "metadata": {},
   "outputs": [],
   "source": [
    "#convert current ROI column from object type to float\n",
    "combined_df[\"ROI\"] = combined_df[\"ROI\"].str.rstrip('%').astype('float') / 100.0"
   ]
  },
  {
   "cell_type": "code",
   "execution_count": 21,
   "metadata": {},
   "outputs": [
    {
     "name": "stdout",
     "output_type": "stream",
     "text": [
      "294 299 292 442 98 74 228\n"
     ]
    }
   ],
   "source": [
    "#totals of film genres\n",
    "action_total = len(combined_df.loc[combined_df[\"genre\"]== \"Action\"])\n",
    "adventure_total = len(combined_df.loc[combined_df[\"genre\"]== \"Adventure\"])\n",
    "comedy_total = len(combined_df.loc[combined_df[\"genre\"]== \"Comedy\"])\n",
    "drama_total = len(combined_df.loc[combined_df[\"genre\"]== \"Drama\"])\n",
    "horror_total = len(combined_df.loc[combined_df[\"genre\"]== \"Horror\"])\n",
    "romantic_total = len(combined_df.loc[combined_df[\"genre\"]== \"Romantic Comedy\"])\n",
    "thriller_total = len(combined_df.loc[combined_df[\"genre\"]== \"Thriller/Suspense\"])\n",
    "\n",
    "print(action_total, adventure_total, comedy_total, drama_total, horror_total, romantic_total, thriller_total)"
   ]
  },
  {
   "cell_type": "code",
   "execution_count": 22,
   "metadata": {},
   "outputs": [],
   "source": [
    "#run for theorized success percentage (ROI >= 277%)\n",
    "successful_df = combined_df.loc[combined_df[\"ROI\"] >= 2.77]"
   ]
  },
  {
   "cell_type": "code",
   "execution_count": 23,
   "metadata": {},
   "outputs": [
    {
     "name": "stdout",
     "output_type": "stream",
     "text": [
      "111 136 112 120 52 30 72\n"
     ]
    }
   ],
   "source": [
    "#totals of successful film genres\n",
    "action_success = len(successful_df.loc[successful_df[\"genre\"]== \"Action\"])\n",
    "adventure_success = len(successful_df.loc[successful_df[\"genre\"]== \"Adventure\"])\n",
    "comedy_success = len(successful_df.loc[successful_df[\"genre\"]== \"Comedy\"])\n",
    "drama_success = len(successful_df.loc[successful_df[\"genre\"]== \"Drama\"])\n",
    "horror_success = len(successful_df.loc[successful_df[\"genre\"]== \"Horror\"])\n",
    "romantic_success = len(successful_df.loc[successful_df[\"genre\"]== \"Romantic Comedy\"])\n",
    "thriller_success = len(successful_df.loc[successful_df[\"genre\"]== \"Thriller/Suspense\"])\n",
    "\n",
    "print(action_success, adventure_success, comedy_success, drama_success, \n",
    "      horror_success, romantic_success, thriller_success)\n"
   ]
  },
  {
   "cell_type": "code",
   "execution_count": 28,
   "metadata": {},
   "outputs": [
    {
     "name": "stdout",
     "output_type": "stream",
     "text": [
      "37.755102040816325 45.48494983277592 38.35616438356164 27.149321266968325 53.06122448979592 40.54054054054054 31.57894736842105\n"
     ]
    }
   ],
   "source": [
    "#calculating for percentage of total successful films per genre\n",
    "pct_action = (action_success/action_total)*100\n",
    "pct_adventure = (adventure_success/adventure_total)*100\n",
    "pct_comedy = (comedy_success/comedy_total)*100\n",
    "pct_drama = (drama_success/drama_total)*100\n",
    "pct_horror = (horror_success/horror_total)*100\n",
    "pct_romcom = (romantic_success/romantic_total)*100\n",
    "pct_thriller = (thriller_success/thriller_total)*100\n",
    "\n",
    "print(pct_action, pct_adventure, pct_comedy, pct_drama, pct_horror, pct_romcom, pct_thriller)"
   ]
  },
  {
   "cell_type": "code",
   "execution_count": 52,
   "metadata": {},
   "outputs": [
    {
     "data": {
      "text/plain": [
       "Text(0.5, 0, 'Percent Successful')"
      ]
     },
     "execution_count": 52,
     "metadata": {},
     "output_type": "execute_result"
    },
    {
     "data": {
      "image/png": "[encoded data removed]",
      "text/plain": [
       "<Figure size 432x288 with 1 Axes>"
      ]
     },
     "metadata": {
      "needs_background": "light"
     },
     "output_type": "display_data"
    }
   ],
   "source": [
    "#plotting ROI success by Genre\n",
    "genre_pcts = [pct_action, pct_adventure, pct_comedy, pct_drama, pct_horror, pct_romcom, pct_thriller]\n",
    "y_axis = np.arange(len(genre_pcts))\n",
    "\n",
    "plt.barh(y_axis, genre_pcts, color='r', alpha=0.8, align=\"center\")\n",
    "tick_locations = [value for value in y_axis]\n",
    "\n",
    "plt.yticks(tick_locations, [\"Action\", \"Adventure\", \"Comedy\", \"Drama\", \"Horror\", \n",
    "                            \"Romantic Comedy\", \"Thriller/Suspense\"], rotation=0)\n",
    "\n",
    "plt.title(\"Percent Of Successful Films by Genre\")\n",
    "plt.ylabel(\"Film Genre\")\n",
    "plt.xlabel(\"Percent Successful\")\n",
    "\n"
   ]
  },
  {
   "cell_type": "code",
   "execution_count": null,
   "metadata": {},
   "outputs": [],
   "source": [
    "#top 50 \n",
    "top_fifty = successful_df.sort_values(\"ROI\", ascending=False)\n",
    "top_fifty.head(50)\n",
    "#or\n",
    "#top_fifty = successful_df.nlargest(50, \"ROI\")\n",
    "#top_fity"
   ]
  },
  {
   "cell_type": "code",
   "execution_count": null,
   "metadata": {},
   "outputs": [],
   "source": []
  },
  {
   "cell_type": "code",
   "execution_count": null,
   "metadata": {},
   "outputs": [],
   "source": []
  }
 ],
 "metadata": {
  "kernelspec": {
   "display_name": "Python 3",
   "language": "python",
   "name": "python3"
  },
  "language_info": {
   "codemirror_mode": {
    "name": "ipython",
    "version": 3
   },
   "file_extension": ".py",
   "mimetype": "text/x-python",
   "name": "python",
   "nbconvert_exporter": "python",
   "pygments_lexer": "ipython3",
   "version": "3.8.3"
  }
 },
 "nbformat": 4,
 "nbformat_minor": 4
}
