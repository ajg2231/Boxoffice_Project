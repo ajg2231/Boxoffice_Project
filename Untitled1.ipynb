{
 "cells": [
  {
   "cell_type": "code",
   "execution_count": null,
   "metadata": {},
   "outputs": [],
   "source": [
    "# Import dependencies\n",
    "import pandas as pd\n",
    "import numpy as np\n",
    "import requests\n",
    "import json\n",
    "import matplotlib.pyplot as plt"
   ]
  },
  {
   "cell_type": "code",
   "execution_count": null,
   "metadata": {},
   "outputs": [],
   "source": [
    "# Import csv (includes MovieData.csv and API data)\n",
    "combined_df = pd.read_csv(\"Resources/api_merge_df.csv\")\n",
    "combined_df"
   ]
  },
  {
   "cell_type": "code",
   "execution_count": null,
   "metadata": {},
   "outputs": [],
   "source": [
    "# Grouping df by genre\n",
    "grouped_genre = combined_df.groupby([\"genre\"])\n",
    "# Summing totals \n",
    "sum_genre = grouped_genre.sum()\n",
    "sum_genre"
   ]
  },
  {
   "cell_type": "code",
   "execution_count": null,
   "metadata": {},
   "outputs": [],
   "source": [
    "# Summing genre\n",
    "sum_genre['genre']=sum_genre.index\n",
    "sum_genre"
   ]
  },
  {
   "cell_type": "code",
   "execution_count": null,
   "metadata": {},
   "outputs": [],
   "source": [
    "# Filtered out genres with less than 30 counts of movies for domestic and international box office revenues\n",
    "\n",
    "reduced_genre = sum_genre.loc [[\"Action\", \"Adventure\", \"Comedy\",\n",
    "                                \"Drama\", \"Horror\", \"Romantic Comedy\", \"Thriller/Suspense\"], [\"domestic_box_office\", \"international_box_office\"]]\n",
    "print(reduced_genre)\n",
    "\n",
    "print()"
   ]
  },
  {
   "cell_type": "code",
   "execution_count": null,
   "metadata": {},
   "outputs": [],
   "source": [
    "# Create new dataframe of domestic and international box office revenue totals\n",
    "reduced_df = pd.DataFrame(reduced_genre)\n",
    "reduced_df"
   ]
  },
  {
   "cell_type": "code",
   "execution_count": null,
   "metadata": {},
   "outputs": [],
   "source": [
    "# Create new dataframe of domestic and international box office revenue totals\n",
    "reduced_df['genre']=reduced_df.index\n",
    "reduced_df"
   ]
  },
  {
   "cell_type": "code",
   "execution_count": null,
   "metadata": {},
   "outputs": [],
   "source": [
    "# Bar chart analysis comparing domestic and international box office revenues per genre\n",
    "# We can see that international box office revenues are higher for all genres except comedy\n",
    "names = reduced_df['genre'].values\n",
    "x = np.arange(len(reduced_df))\n",
    "w = 0.3\n",
    "plt.bar(x-w, reduced_df['domestic_box_office'].values, width=.3, label='Domestic Box Office')\n",
    "plt.bar(x, reduced_df['international_box_office'].values, width=.3, label='International Box Office')\n",
    "plt.ylim([0,80000000000])\n",
    "plt.tight_layout\n",
    "plt.xticks(x, reduced_df[\"genre\"], rotation=\"vertical\")\n",
    "plt.title('Domestic and International box office revenue per genre')\n",
    "plt.ylabel('Revenue in tens of billions of U.S. dollars')\n",
    "plt.xlabel('Genres')\n",
    "plt.legend(loc='upper center', bbox_to_anchor=(0.5, -0.5), fancybox=True, ncol=5)\n",
    "plt.show()\n"
   ]
  },
  {
   "cell_type": "code",
   "execution_count": null,
   "metadata": {},
   "outputs": [],
   "source": [
    "# Filtered out genres with less than 30 counts of movies for total box office revenue\n",
    "\n",
    "reducedtotal_genre = sum_genre.loc [[\"Action\", \"Adventure\", \"Comedy\",\n",
    "                                \"Drama\", \"Horror\", \"Romantic Comedy\", \"Thriller/Suspense\"], [\"Total Box Office\"]]\n",
    "print(reducedtotal_genre)\n",
    "\n",
    "print()"
   ]
  },
  {
   "cell_type": "code",
   "execution_count": null,
   "metadata": {},
   "outputs": [],
   "source": [
    "# Create new dataframe for total box office revenue\n",
    "reducedtotal_df = pd.DataFrame(reducedtotal_genre)\n",
    "reducedtotal_df"
   ]
  },
  {
   "cell_type": "code",
   "execution_count": null,
   "metadata": {},
   "outputs": [],
   "source": [
    "# Create new dataframe for total box office revenue\n",
    "reducedtotal_df['genre']=reducedtotal_df.index\n",
    "reducedtotal_df"
   ]
  },
  {
   "cell_type": "code",
   "execution_count": null,
   "metadata": {},
   "outputs": [],
   "source": []
  }
 ],
 "metadata": {
  "kernelspec": {
   "display_name": "Python 3",
   "language": "python",
   "name": "python3"
  },
  "language_info": {
   "codemirror_mode": {
    "name": "ipython",
    "version": 3
   },
   "file_extension": ".py",
   "mimetype": "text/x-python",
   "name": "python",
   "nbconvert_exporter": "python",
   "pygments_lexer": "ipython3",
   "version": "3.8.3"
  }
 },
 "nbformat": 4,
 "nbformat_minor": 4
}
