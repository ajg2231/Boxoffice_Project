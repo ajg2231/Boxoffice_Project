{
 "cells": [
  {
   "cell_type": "code",
   "execution_count": 3,
   "metadata": {},
   "outputs": [],
   "source": [
    "import pandas as pd\n",
    "\n",
    "a = pd.read_csv(\"/Users/alexandergoldstein/MovieData.csv\")\n",
    "file = pd.DataFrame(a)\n",
    "\n",
    "b = file['domestic_box_office'] + file['international_box_office']\n",
    "BoxOffice = pd.DataFrame(b)\n",
    "file['BoxOffice'] = BoxOffice\n",
    "\n",
    "c = file['BoxOffice'] / file['production_budget']\n",
    "ROI = pd.DataFrame(c)\n",
    "file['ROI'] = ROI\n",
    "\n",
    "DomesticFilms = file[file.rating != \"Not Rated\"]\n",
    "InternationalFilms = file[file.rating == \"Not Rated\"]"
   ]
  },
  {
   "cell_type": "code",
   "execution_count": 4,
   "metadata": {},
   "outputs": [
    {
     "name": "stdout",
     "output_type": "stream",
     "text": [
      "3                   Comedy\n",
      "13                  Action\n",
      "14                   Drama\n",
      "23                  Horror\n",
      "29               Adventure\n",
      "37            Black Comedy\n",
      "53       Thriller/Suspense\n",
      "65         Romantic Comedy\n",
      "84                 Western\n",
      "134                Musical\n",
      "344    Concert/Performance\n",
      "568            Documentary\n",
      "Name: genre, dtype: object\n"
     ]
    }
   ],
   "source": [
    "#listing genres\n",
    "\n",
    "DomesticFilms1 = DomesticFilms.dropna()\n",
    "d = DomesticFilms1.drop_duplicates(['genre'])\n",
    "print(d['genre'])"
   ]
  },
  {
   "cell_type": "code",
   "execution_count": 5,
   "metadata": {
    "scrolled": true
   },
   "outputs": [],
   "source": [
    "#creating unique dataframe for each genre\n",
    "\n",
    "e = DomesticFilms1\n",
    "\n",
    "f = e[e.genre == \"Action\"]\n",
    "g = e[e.genre == \"Comedy\"]\n",
    "h = e[e.genre == \"Drama\"]\n",
    "i = e[e.genre == \"Horror\"]\n",
    "j = e[e.genre == \"Adventure\"]\n",
    "k = e[e.genre == \"Black Comedy\"]\n",
    "l = e[e.genre == \"Thriller/Suspense\"]\n",
    "m = e[e.genre == \"Romantic Comedy\"]\n",
    "n = e[e.genre == \"Western\"]\n",
    "o = e[e.genre == \"Musical\"]\n",
    "p = e[e.genre == \"Concert/Performance\"]\n",
    "q = e[e.genre == \"Documentary\"]"
   ]
  },
  {
   "cell_type": "code",
   "execution_count": 9,
   "metadata": {},
   "outputs": [
    {
     "name": "stdout",
     "output_type": "stream",
     "text": [
      "0.8197965942747568\n",
      "0.4931418824390307\n",
      "0.520596113088565\n",
      "0.4056432004806375\n",
      "0.7031787187973277\n",
      "0.6590942952226213\n",
      "0.7252668599344823\n",
      "0.5326900155969354\n",
      "0.5820456670159309\n",
      "0.6420637546901916\n",
      "-0.40374917907948654\n",
      "0.45646956542236655\n"
     ]
    }
   ],
   "source": [
    "#now for the regression analysis\n",
    "\n",
    "import numpy as np\n",
    "     \n",
    "model1 = np.corrcoef(f['production_budget'], f['BoxOffice'])[0, 1]\n",
    "model2 = np.corrcoef(g['production_budget'], g['BoxOffice'])[0, 1]\n",
    "model3 = np.corrcoef(h['production_budget'], h['BoxOffice'])[0, 1]\n",
    "model4 = np.corrcoef(i['production_budget'], i['BoxOffice'])[0, 1]\n",
    "model5 = np.corrcoef(j['production_budget'], j['BoxOffice'])[0, 1]\n",
    "model6 = np.corrcoef(k['production_budget'], k['BoxOffice'])[0, 1]\n",
    "model7 = np.corrcoef(l['production_budget'], l['BoxOffice'])[0, 1]\n",
    "model8 = np.corrcoef(m['production_budget'], m['BoxOffice'])[0, 1]\n",
    "model9 = np.corrcoef(n['production_budget'], n['BoxOffice'])[0, 1]\n",
    "model10 = np.corrcoef(o['production_budget'], o['BoxOffice'])[0, 1]\n",
    "model11 = np.corrcoef(p['production_budget'], p['BoxOffice'])[0, 1]\n",
    "model12 = np.corrcoef(q['production_budget'], q['BoxOffice'])[0, 1]\n",
    "\n",
    "box = [model1, model2, model3, model4, model5, model6, model7, model8, model9, model10, model11, model12]\n",
    "\n",
    "for model in box:\n",
    "    print(model)\n",
    "    \n",
    "#returns pearson's correlation coefficient"
   ]
  },
  {
   "cell_type": "code",
   "execution_count": null,
   "metadata": {},
   "outputs": [],
   "source": []
  }
 ],
 "metadata": {
  "kernelspec": {
   "display_name": "Python 3",
   "language": "python",
   "name": "python3"
  },
  "language_info": {
   "codemirror_mode": {
    "name": "ipython",
    "version": 3
   },
   "file_extension": ".py",
   "mimetype": "text/x-python",
   "name": "python",
   "nbconvert_exporter": "python",
   "pygments_lexer": "ipython3",
   "version": "3.8.3"
  }
 },
 "nbformat": 4,
 "nbformat_minor": 4
}
