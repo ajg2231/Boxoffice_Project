{
 "cells": [
  {
   "cell_type": "code",
   "execution_count": 1,
   "metadata": {},
   "outputs": [
    {
     "name": "stdout",
     "output_type": "stream",
     "text": [
      "                    movie_name      Country Release Date  IMDB Rating  \\\n",
      "0       Madea's Family Reunion          USA  24 Feb 2006          5.2   \n",
      "1                       Krrish        India  23 Jun 2006          6.4   \n",
      "2             End of the Spear          USA  20 Jan 2006          6.8   \n",
      "3     A Prairie Home Companion          USA  09 Jun 2006          6.7   \n",
      "4                      Saw III  Canada, USA  27 Oct 2006          6.2   \n",
      "...                        ...          ...          ...          ...   \n",
      "1795                    Widows      UK, USA  16 Nov 2018          8.0   \n",
      "1796            Instant Family          USA  16 Nov 2018          7.2   \n",
      "1797                  The Mule  USA, Canada  14 Dec 2018          7.3   \n",
      "1798                  Creed II          USA  21 Nov 2018          7.3   \n",
      "1799         Bohemian Rhapsody      UK, USA  02 Nov 2018          6.3   \n",
      "\n",
      "      Metascore TomatoMeter  production_budget  domestic_box_office  \\\n",
      "0          45.0         26%           10000000             63257940   \n",
      "1          68.0         88%           10000000              1430721   \n",
      "2          45.0         41%           10000000             11748661   \n",
      "3          75.0         81%           10000000             20342852   \n",
      "4          48.0         28%           10000000             80238724   \n",
      "...         ...         ...                ...                  ...   \n",
      "1795       49.0         79%           40000000             42402632   \n",
      "1796       61.0         65%           48000000             67363237   \n",
      "1797       84.0         88%           50000000            103678298   \n",
      "1798       60.0         97%           50000000            115704387   \n",
      "1799       51.0         36%           55000000            214776464   \n",
      "\n",
      "      international_box_office     rating              genre  \\\n",
      "0                        62581      PG-13             Comedy   \n",
      "1                     31000000  Not Rated             Action   \n",
      "2                       175380      PG-13              Drama   \n",
      "3                      6373339      PG-13             Comedy   \n",
      "4                     83638091          R             Horror   \n",
      "...                        ...        ...                ...   \n",
      "1795                  31463456          R  Thriller/Suspense   \n",
      "1796                  47127851      PG-13             Comedy   \n",
      "1797                  47511103          R              Drama   \n",
      "1798                  96950000      PG-13              Drama   \n",
      "1799                 653781913      PG-13              Drama   \n",
      "\n",
      "      Total Box Office        ROI  BoxOffice  \n",
      "0             63320521   6.332052   63320521  \n",
      "1             32430721   3.243072   32430721  \n",
      "2             11924041   1.192404   11924041  \n",
      "3             26716191   2.671619   26716191  \n",
      "4            163876815  16.387681  163876815  \n",
      "...                ...        ...        ...  \n",
      "1795          73866088   1.846652   73866088  \n",
      "1796         114491088   2.385231  114491088  \n",
      "1797         151189401   3.023788  151189401  \n",
      "1798         212654387   4.253088  212654387  \n",
      "1799         868558377  15.791970  868558377  \n",
      "\n",
      "[1800 rows x 14 columns]\n"
     ]
    }
   ],
   "source": [
    "import pandas as pd\n",
    "import matplotlib.pyplot as plt\n",
    "\n",
    "a = pd.read_csv(\"Resources/api_merge_df.csv\")\n",
    "file = pd.DataFrame(a)\n",
    "\n",
    "b = file['domestic_box_office'] + file['international_box_office']\n",
    "BoxOffice = pd.DataFrame(b)\n",
    "file['BoxOffice'] = BoxOffice\n",
    "\n",
    "c = file['BoxOffice'] / file['production_budget']\n",
    "ROI = pd.DataFrame(c)\n",
    "file['ROI'] = ROI\n",
    "\n",
    "print(file)"
   ]
  },
  {
   "cell_type": "code",
   "execution_count": 2,
   "metadata": {},
   "outputs": [
    {
     "name": "stdout",
     "output_type": "stream",
     "text": [
      "2.9657928064706973 3.0051257447368847 2.7463410157927175 3.85783007305101 2.4423971638737982\n"
     ]
    },
    {
     "data": {
      "image/png": "[encoded data removed]",
      "text/plain": [
       "<Figure size 432x288 with 1 Axes>"
      ]
     },
     "metadata": {
      "needs_background": "light"
     },
     "output_type": "display_data"
    }
   ],
   "source": [
    "e = file\n",
    "\n",
    "s = e[e.rating == \"PG\"]\n",
    "t = e[e.rating == \"PG-13\"]\n",
    "u = e[e.rating == \"R\"]\n",
    "v = e[e.rating == \"G\"]\n",
    "w = e[e.rating == \"Not Rated\"]\n",
    "\n",
    "d = s['ROI'].mean()\n",
    "f = t['ROI'].mean()\n",
    "g = u['ROI'].mean()\n",
    "i = v['ROI'].mean()\n",
    "j = w['ROI'].mean()\n",
    "\n",
    "h = {'PG':d, 'PG-13':f, 'R':g, 'G':i, 'Not Rated':j}\n",
    "\n",
    "mpaa = list(h.keys())\n",
    "ReturnOnInvestment = list(h.values())\n",
    "\n",
    "plt.bar(mpaa, ReturnOnInvestment, color='blue', width=0.5)\n",
    "\n",
    "print(d, f, g, i, j)\n"
   ]
  },
  {
   "cell_type": "code",
   "execution_count": 3,
   "metadata": {},
   "outputs": [
    {
     "name": "stdout",
     "output_type": "stream",
     "text": [
      "80 205 147 10 6\n",
      "286 735 710 30 38\n"
     ]
    }
   ],
   "source": [
    "m = e[e[\"ROI\"] >= 3.73]\n",
    "n = m[m.rating == \"PG\"]\n",
    "k = m[m.rating == \"PG-13\"]\n",
    "l = m[m.rating == \"R\"]\n",
    "o = m[m.rating == \"G\"]\n",
    "p = m[m.rating == \"Not Rated\"]\n",
    "\n",
    "\n",
    "print(len(n), len(k), len(l), len(o), len(p))\n",
    "print(len(s), len(t), len(u), len(v), len(w))\n",
    "\n"
   ]
  },
  {
   "cell_type": "code",
   "execution_count": 4,
   "metadata": {},
   "outputs": [
    {
     "ename": "TypeError",
     "evalue": "object of type 'float' has no len()",
     "output_type": "error",
     "traceback": [
      "\u001b[0;31m---------------------------------------------------------------------------\u001b[0m",
      "\u001b[0;31mTypeError\u001b[0m                                 Traceback (most recent call last)",
      "\u001b[0;32m<ipython-input-4-b9e0446ef242>\u001b[0m in \u001b[0;36m<module>\u001b[0;34m\u001b[0m\n\u001b[0;32m----> 1\u001b[0;31m \u001b[0mprint\u001b[0m\u001b[0;34m(\u001b[0m\u001b[0mlen\u001b[0m\u001b[0;34m(\u001b[0m\u001b[0mj\u001b[0m\u001b[0;34m)\u001b[0m\u001b[0;34m/\u001b[0m\u001b[0mlen\u001b[0m\u001b[0;34m(\u001b[0m\u001b[0ms\u001b[0m\u001b[0;34m)\u001b[0m\u001b[0;34m,\u001b[0m \u001b[0mlen\u001b[0m\u001b[0;34m(\u001b[0m\u001b[0mk\u001b[0m\u001b[0;34m)\u001b[0m\u001b[0;34m/\u001b[0m\u001b[0mlen\u001b[0m\u001b[0;34m(\u001b[0m\u001b[0mt\u001b[0m\u001b[0;34m)\u001b[0m\u001b[0;34m,\u001b[0m \u001b[0mlen\u001b[0m\u001b[0;34m(\u001b[0m\u001b[0ml\u001b[0m\u001b[0;34m)\u001b[0m\u001b[0;34m/\u001b[0m\u001b[0mlen\u001b[0m\u001b[0;34m(\u001b[0m\u001b[0mu\u001b[0m\u001b[0;34m)\u001b[0m\u001b[0;34m)\u001b[0m\u001b[0;34m\u001b[0m\u001b[0;34m\u001b[0m\u001b[0m\n\u001b[0m",
      "\u001b[0;31mTypeError\u001b[0m: object of type 'float' has no len()"
     ]
    }
   ],
   "source": [
    "print(len(j)/len(s), len(k)/len(t), len(l)/len(u))"
   ]
  },
  {
   "cell_type": "code",
   "execution_count": 11,
   "metadata": {},
   "outputs": [
    {
     "data": {
      "text/plain": [
       "Text(0.5, 1.0, '% of total Count of Financial Success')"
      ]
     },
     "execution_count": 11,
     "metadata": {},
     "output_type": "execute_result"
    },
    {
     "data": {
      "image/png": "[encoded data removed]",
      "text/plain": [
       "<Figure size 432x288 with 1 Axes>"
      ]
     },
     "metadata": {
      "needs_background": "light"
     },
     "output_type": "display_data"
    }
   ],
   "source": [
    "q = len(n)/len(s)\n",
    "r = len(k)/len(t)\n",
    "x = len(l)/len(u)\n",
    "y = len(o)/len(v)\n",
    "z = len(p)/len(w)\n",
    "\n",
    "\n",
    "aa = {'Not Rated':z, 'G':y, 'PG':q, 'PG-13':r, 'R':x}\n",
    "\n",
    "mpaa1 = list(aa.keys())\n",
    "ReturnOnInvestment1 = list(aa.values())\n",
    "\n",
    "fig, ax = plt.subplots() \n",
    "\n",
    "chart2 = plt.bar(mpaa1, ReturnOnInvestment1, color='red', width=0.5)\n",
    "\n",
    "plt.xlabel('Percentages of Successful Movies Based on MPAA Rating')\n",
    "plt.ylabel('MPAA Rating')\n",
    "plt.title('% of total Count of Financial Success')\n"
   ]
  },
  {
   "cell_type": "code",
   "execution_count": null,
   "metadata": {},
   "outputs": [],
   "source": []
  }
 ],
 "metadata": {
  "kernelspec": {
   "display_name": "Python 3",
   "language": "python",
   "name": "python3"
  },
  "language_info": {
   "codemirror_mode": {
    "name": "ipython",
    "version": 3
   },
   "file_extension": ".py",
   "mimetype": "text/x-python",
   "name": "python",
   "nbconvert_exporter": "python",
   "pygments_lexer": "ipython3",
   "version": "3.8.3"
  }
 },
 "nbformat": 4,
 "nbformat_minor": 4
}
