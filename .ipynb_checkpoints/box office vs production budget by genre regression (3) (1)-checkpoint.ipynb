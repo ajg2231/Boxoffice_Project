{
 "cells": [
  {
   "cell_type": "code",
   "execution_count": 19,
   "metadata": {},
   "outputs": [],
   "source": [
    "import pandas as pd\n",
    "\n",
    "a = pd.read_csv(\"/Users/alexandergoldstein/Downloads/api_merge_df.csv\")\n",
    "file = pd.DataFrame(a)\n",
    "\n",
    "b = file['domestic_box_office'] + file['international_box_office']\n",
    "BoxOffice = pd.DataFrame(b)\n",
    "file['BoxOffice'] = BoxOffice\n",
    "\n",
    "c = file['BoxOffice'] / file['production_budget']\n",
    "ROI = pd.DataFrame(c)\n",
    "file['ROI'] = ROI\n",
    "\n",
    "DomesticFilms = file[file.rating != \"Not Rated\"]\n",
    "InternationalFilms = file[file.rating == \"Not Rated\"]"
   ]
  },
  {
   "cell_type": "code",
   "execution_count": 20,
   "metadata": {},
   "outputs": [
    {
     "name": "stdout",
     "output_type": "stream",
     "text": [
      "0                   Comedy\n",
      "1                   Action\n",
      "2                    Drama\n",
      "4                   Horror\n",
      "6             Black Comedy\n",
      "8        Thriller/Suspense\n",
      "23                 Musical\n",
      "27               Adventure\n",
      "63         Romantic Comedy\n",
      "258                Western\n",
      "346    Concert/Performance\n",
      "503            Documentary\n",
      "Name: genre, dtype: object\n"
     ]
    }
   ],
   "source": [
    "#listing genres\n",
    "\n",
    "Films = file.dropna()\n",
    "d = Films.drop_duplicates(['genre'])\n",
    "print(d['genre'])"
   ]
  },
  {
   "cell_type": "code",
   "execution_count": 21,
   "metadata": {
    "scrolled": true
   },
   "outputs": [
    {
     "name": "stdout",
     "output_type": "stream",
     "text": [
      "283 282 419 95 291 22 218 72 13 23 5 6\n",
      "28 282 710 676\n"
     ]
    }
   ],
   "source": [
    "#creating unique dataframe for each genre\n",
    "\n",
    "e = Films\n",
    "\n",
    "f = e[e.genre == \"Action\"]\n",
    "g = e[e.genre == \"Comedy\"]\n",
    "h = e[e.genre == \"Drama\"]\n",
    "i = e[e.genre == \"Horror\"]\n",
    "j = e[e.genre == \"Adventure\"]\n",
    "k = e[e.genre == \"Black Comedy\"]\n",
    "l = e[e.genre == \"Thriller/Suspense\"]\n",
    "m = e[e.genre == \"Romantic Comedy\"]\n",
    "n = e[e.genre == \"Western\"]\n",
    "o = e[e.genre == \"Musical\"]\n",
    "p = e[e.genre == \"Concert/Performance\"]\n",
    "q = e[e.genre == \"Documentary\"]\n",
    "\n",
    "r = e[e.rating == \"G\"]\n",
    "s = e[e.rating == \"PG\"]\n",
    "t = e[e.rating == \"PG-13\"]\n",
    "u = e[e.rating == \"R\"]\n",
    "\n",
    "print(len(f), len(g), len(h), len(i), len(j), len(k), len(l), len(m), len(n), len(o), len(p), len(q))\n",
    "print(len(r), len(s), len(t), len(u))\n",
    "\n",
    "#black comedy, western, musical, concert/performance and documentary genres have deficient (<30) quantity of \n",
    "#observations; statistical analysis of their box office performance given predictive factors is unreliable"
   ]
  },
  {
   "cell_type": "code",
   "execution_count": 9,
   "metadata": {},
   "outputs": [
    {
     "name": "stdout",
     "output_type": "stream",
     "text": [
      "0.8197965942747568\n",
      "0.4931418824390307\n",
      "0.520596113088565\n",
      "0.4056432004806375\n",
      "0.7031787187973277\n",
      "0.6590942952226213\n",
      "0.7252668599344823\n",
      "0.5326900155969354\n",
      "0.5820456670159309\n",
      "0.6420637546901916\n",
      "-0.40374917907948654\n",
      "0.45646956542236655\n"
     ]
    }
   ],
   "source": [
    "#now for the regression analysis\n",
    "\n",
    "import numpy as np\n",
    "     \n",
    "model1 = np.corrcoef(f['production_budget'], f['BoxOffice'])[0, 1]\n",
    "model2 = np.corrcoef(g['production_budget'], g['BoxOffice'])[0, 1]\n",
    "model3 = np.corrcoef(h['production_budget'], h['BoxOffice'])[0, 1]\n",
    "model4 = np.corrcoef(i['production_budget'], i['BoxOffice'])[0, 1]\n",
    "model5 = np.corrcoef(j['production_budget'], j['BoxOffice'])[0, 1]\n",
    "model6 = np.corrcoef(k['production_budget'], k['BoxOffice'])[0, 1]\n",
    "model7 = np.corrcoef(l['production_budget'], l['BoxOffice'])[0, 1]\n",
    "model8 = np.corrcoef(m['production_budget'], m['BoxOffice'])[0, 1]\n",
    "model9 = np.corrcoef(n['production_budget'], n['BoxOffice'])[0, 1]\n",
    "model10 = np.corrcoef(o['production_budget'], o['BoxOffice'])[0, 1]\n",
    "model11 = np.corrcoef(p['production_budget'], p['BoxOffice'])[0, 1]\n",
    "model12 = np.corrcoef(q['production_budget'], q['BoxOffice'])[0, 1]\n",
    "\n",
    "box = [model1, model2, model3, model4, model5, model6, model7, model8, model9, model10, model11, model12]\n",
    "\n",
    "for model in box:\n",
    "    print(model)\n",
    "    \n",
    "#returns pearson's correlation coefficient"
   ]
  },
  {
   "cell_type": "code",
   "execution_count": null,
   "metadata": {},
   "outputs": [],
   "source": [
    "new = pd.read_csv()"
   ]
  }
 ],
 "metadata": {
  "kernelspec": {
   "display_name": "Python 3",
   "language": "python",
   "name": "python3"
  },
  "language_info": {
   "codemirror_mode": {
    "name": "ipython",
    "version": 3
   },
   "file_extension": ".py",
   "mimetype": "text/x-python",
   "name": "python",
   "nbconvert_exporter": "python",
   "pygments_lexer": "ipython3",
   "version": "3.8.3"
  }
 },
 "nbformat": 4,
 "nbformat_minor": 4
}
