{
 "cells": [
  {
   "cell_type": "code",
   "execution_count": 3,
   "metadata": {},
   "outputs": [],
   "source": [
    "import pandas as pd\n",
    "import matplotlib.pyplot as plt\n",
    "\n",
    "a = pd.read_csv(\"/Users/alexandergoldstein/Downloads/api_merge_df.csv\")\n",
    "file = pd.DataFrame(a)\n",
    "\n",
    "b = file['domestic_box_office'] + file['international_box_office']\n",
    "BoxOffice = pd.DataFrame(b)\n",
    "file['BoxOffice'] = BoxOffice\n",
    "\n",
    "c = file['BoxOffice'] / file['production_budget']\n",
    "ROI = pd.DataFrame(c)\n",
    "file['ROI'] = ROI"
   ]
  },
  {
   "cell_type": "code",
   "execution_count": 18,
   "metadata": {},
   "outputs": [
    {
     "name": "stdout",
     "output_type": "stream",
     "text": [
      "2.9657928064706973 3.0011406700837098 2.741143096166895\n"
     ]
    },
    {
     "data": {
      "image/png": "[encoded data removed]",
      "text/plain": [
       "<Figure size 432x288 with 1 Axes>"
      ]
     },
     "metadata": {
      "needs_background": "light"
     },
     "output_type": "display_data"
    }
   ],
   "source": [
    "e = file\n",
    "\n",
    "s = e[e.rating == \"PG\"]\n",
    "t = e[e.rating == \"PG-13\"]\n",
    "u = e[e.rating == \"R\"]\n",
    "\n",
    "d = s['ROI'].mean()\n",
    "f = t['ROI'].mean()\n",
    "g = u['ROI'].mean()\n",
    "\n",
    "h = {'PG':d, 'PG-13':f, 'R':g}\n",
    "\n",
    "mpaa = list(h.keys())\n",
    "ReturnOnInvestment = list(h.values())\n",
    "\n",
    "plt.bar(mpaa, ReturnOnInvestment, color='blue', width=0.5)\n",
    "\n",
    "print(d, f, g)\n"
   ]
  },
  {
   "cell_type": "code",
   "execution_count": 22,
   "metadata": {},
   "outputs": [
    {
     "name": "stdout",
     "output_type": "stream",
     "text": [
      "80 205 148\n",
      "286 736 713\n"
     ]
    }
   ],
   "source": [
    "i = e[e[\"ROI\"] >= 3.73]\n",
    "j = i[i.rating == \"PG\"]\n",
    "k = i[i.rating == \"PG-13\"]\n",
    "l = i[i.rating == \"R\"]\n",
    "\n",
    "print(len(j), len(k), len(l))\n",
    "print(len(s), len(t), len(u))\n",
    "\n"
   ]
  },
  {
   "cell_type": "code",
   "execution_count": 23,
   "metadata": {},
   "outputs": [
    {
     "name": "stdout",
     "output_type": "stream",
     "text": [
      "0.27972027972027974 0.27853260869565216 0.20757363253856942\n"
     ]
    }
   ],
   "source": [
    "print(len(j)/len(s), len(k)/len(t), len(l)/len(u))"
   ]
  },
  {
   "cell_type": "code",
   "execution_count": 24,
   "metadata": {},
   "outputs": [
    {
     "data": {
      "text/plain": [
       "<BarContainer object of 3 artists>"
      ]
     },
     "execution_count": 24,
     "metadata": {},
     "output_type": "execute_result"
    },
    {
     "data": {
      "image/png": "[encoded data removed]",
      "text/plain": [
       "<Figure size 432x288 with 1 Axes>"
      ]
     },
     "metadata": {
      "needs_background": "light"
     },
     "output_type": "display_data"
    }
   ],
   "source": [
    "n = len(j)/len(s)\n",
    "o = len(k)/len(t)\n",
    "p = len(l)/len(u)\n",
    "\n",
    "\n",
    "m = {'PG':n, 'PG-13':o, 'R':p}\n",
    "\n",
    "mpaa1 = list(m.keys())\n",
    "ReturnOnInvestment1 = list(m.values())\n",
    "\n",
    "plt.bar(mpaa1, ReturnOnInvestment1, color='red', width=0.5)"
   ]
  },
  {
   "cell_type": "code",
   "execution_count": null,
   "metadata": {},
   "outputs": [],
   "source": []
  }
 ],
 "metadata": {
  "kernelspec": {
   "display_name": "Python 3",
   "language": "python",
   "name": "python3"
  },
  "language_info": {
   "codemirror_mode": {
    "name": "ipython",
    "version": 3
   },
   "file_extension": ".py",
   "mimetype": "text/x-python",
   "name": "python",
   "nbconvert_exporter": "python",
   "pygments_lexer": "ipython3",
   "version": "3.8.3"
  }
 },
 "nbformat": 4,
 "nbformat_minor": 4
}
